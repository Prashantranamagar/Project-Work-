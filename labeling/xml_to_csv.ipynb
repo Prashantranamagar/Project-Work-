{
 "cells": [
  {
   "cell_type": "code",
   "execution_count": 6,
   "id": "7db70da5",
   "metadata": {
    "executionInfo": {
     "elapsed": 471,
     "status": "ok",
     "timestamp": 1681833177750,
     "user": {
      "displayName": "pooja ghimire",
      "userId": "09187255356248335844"
     },
     "user_tz": -345
    },
    "id": "7db70da5"
   },
   "outputs": [],
   "source": [
    "import pandas as pd\n",
    "#Used for xml parsing and extracting information, Element tree represent xml doc in a tree structure\n",
    "import xml.etree.ElementTree as xet\n"
   ]
  },
  {
   "cell_type": "code",
   "execution_count": 7,
   "id": "EVWBpbjPEMMO",
   "metadata": {
    "colab": {
     "base_uri": "https://localhost:8080/"
    },
    "executionInfo": {
     "elapsed": 21202,
     "status": "ok",
     "timestamp": 1681833150162,
     "user": {
      "displayName": "pooja ghimire",
      "userId": "09187255356248335844"
     },
     "user_tz": -345
    },
    "id": "EVWBpbjPEMMO",
    "outputId": "5c2142e7-bea0-445e-f625-754aec86fb67"
   },
   "outputs": [
    {
     "ename": "ModuleNotFoundError",
     "evalue": "No module named 'google'",
     "output_type": "error",
     "traceback": [
      "\u001b[1;31m---------------------------------------------------------------------------\u001b[0m",
      "\u001b[1;31mModuleNotFoundError\u001b[0m                       Traceback (most recent call last)",
      "Cell \u001b[1;32mIn[7], line 1\u001b[0m\n\u001b[1;32m----> 1\u001b[0m \u001b[38;5;28;01mfrom\u001b[39;00m \u001b[38;5;21;01mgoogle\u001b[39;00m\u001b[38;5;21;01m.\u001b[39;00m\u001b[38;5;21;01mcolab\u001b[39;00m \u001b[38;5;28;01mimport\u001b[39;00m drive\n\u001b[0;32m      2\u001b[0m drive\u001b[38;5;241m.\u001b[39mmount(\u001b[38;5;124m'\u001b[39m\u001b[38;5;124m/content/drive\u001b[39m\u001b[38;5;124m'\u001b[39m)\n",
      "\u001b[1;31mModuleNotFoundError\u001b[0m: No module named 'google'"
     ]
    }
   ],
   "source": [
    "from google.colab import drive\n",
    "drive.mount('/content/drive')"
   ]
  },
  {
   "cell_type": "code",
   "execution_count": 8,
   "id": "0aa383dd",
   "metadata": {
    "executionInfo": {
     "elapsed": 509,
     "status": "ok",
     "timestamp": 1681833174113,
     "user": {
      "displayName": "pooja ghimire",
      "userId": "09187255356248335844"
     },
     "user_tz": -345
    },
    "id": "0aa383dd"
   },
   "outputs": [],
   "source": [
    "#Used to extract the file path\n",
    "from glob import glob\n"
   ]
  },
  {
   "cell_type": "code",
   "execution_count": 9,
   "id": "523d3588",
   "metadata": {
    "colab": {
     "base_uri": "https://localhost:8080/"
    },
    "executionInfo": {
     "elapsed": 468,
     "status": "ok",
     "timestamp": 1681833183184,
     "user": {
      "displayName": "pooja ghimire",
      "userId": "09187255356248335844"
     },
     "user_tz": -345
    },
    "id": "523d3588",
    "outputId": "6a91de3a-d775-4478-b037-67888fd7b3da"
   },
   "outputs": [
    {
     "data": {
      "text/plain": [
       "[]"
      ]
     },
     "execution_count": 9,
     "metadata": {},
     "output_type": "execute_result"
    }
   ],
   "source": [
    "path = glob('./images/*.xml')  #extract all file in a list with an extension .xml which is inside images folder\n",
    "path"
   ]
  },
  {
   "cell_type": "code",
   "execution_count": 10,
   "id": "c6838db8",
   "metadata": {
    "executionInfo": {
     "elapsed": 413,
     "status": "ok",
     "timestamp": 1681833257371,
     "user": {
      "displayName": "pooja ghimire",
      "userId": "09187255356248335844"
     },
     "user_tz": -345
    },
    "id": "c6838db8"
   },
   "outputs": [],
   "source": [
    "labels_dict = dict(filepath=[],xmin=[],xmax=[],ymin=[],ymax=[])\n",
    "\n",
    "for filename in path:\n",
    "        #     filename = path[0] # for single file\n",
    "            info = xet.parse(filename)\n",
    "            root = info.getroot()\n",
    "            member_object = root.find('object')\n",
    "            labels_info = member_object.find('bndbox')\n",
    "            xmin = int(labels_info.find('xmin').text)\n",
    "            xmax = int(labels_info.find('xmax').text)\n",
    "            ymin = int(labels_info.find('ymin').text)\n",
    "            ymax = int(labels_info.find('ymax').text)\n",
    "        #     print(xmin,xmax,ymin,ymax)\n",
    "            labels_dict['filepath'].append(filename)\n",
    "            labels_dict['xmin'].append(xmin)\n",
    "            labels_dict['xmax'].append(xmax)\n",
    "            labels_dict['ymin'].append(ymin)\n",
    "            labels_dict['ymax'].append(ymax)\n",
    "    "
   ]
  },
  {
   "cell_type": "code",
   "execution_count": 11,
   "id": "10304a8b",
   "metadata": {
    "colab": {
     "base_uri": "https://localhost:8080/",
     "height": 49
    },
    "executionInfo": {
     "elapsed": 676,
     "status": "ok",
     "timestamp": 1681833263892,
     "user": {
      "displayName": "pooja ghimire",
      "userId": "09187255356248335844"
     },
     "user_tz": -345
    },
    "id": "10304a8b",
    "outputId": "d0ec8e79-a802-46f6-c45e-f8cc8338668d"
   },
   "outputs": [
    {
     "data": {
      "text/html": [
       "<div>\n",
       "<style scoped>\n",
       "    .dataframe tbody tr th:only-of-type {\n",
       "        vertical-align: middle;\n",
       "    }\n",
       "\n",
       "    .dataframe tbody tr th {\n",
       "        vertical-align: top;\n",
       "    }\n",
       "\n",
       "    .dataframe thead th {\n",
       "        text-align: right;\n",
       "    }\n",
       "</style>\n",
       "<table border=\"1\" class=\"dataframe\">\n",
       "  <thead>\n",
       "    <tr style=\"text-align: right;\">\n",
       "      <th></th>\n",
       "      <th>filepath</th>\n",
       "      <th>xmin</th>\n",
       "      <th>xmax</th>\n",
       "      <th>ymin</th>\n",
       "      <th>ymax</th>\n",
       "    </tr>\n",
       "  </thead>\n",
       "  <tbody>\n",
       "  </tbody>\n",
       "</table>\n",
       "</div>"
      ],
      "text/plain": [
       "Empty DataFrame\n",
       "Columns: [filepath, xmin, xmax, ymin, ymax]\n",
       "Index: []"
      ]
     },
     "execution_count": 11,
     "metadata": {},
     "output_type": "execute_result"
    }
   ],
   "source": [
    "df = pd.DataFrame(labels_dict)\n",
    "df"
   ]
  },
  {
   "cell_type": "code",
   "execution_count": 12,
   "id": "06b151d8",
   "metadata": {
    "executionInfo": {
     "elapsed": 712,
     "status": "ok",
     "timestamp": 1681833271395,
     "user": {
      "displayName": "pooja ghimire",
      "userId": "09187255356248335844"
     },
     "user_tz": -345
    },
    "id": "06b151d8"
   },
   "outputs": [],
   "source": [
    "df.to_csv('labels.csv',index = False)"
   ]
  },
  {
   "cell_type": "code",
   "execution_count": null,
   "id": "1a4e7aad",
   "metadata": {
    "id": "1a4e7aad"
   },
   "outputs": [],
   "source": []
  },
  {
   "cell_type": "code",
   "execution_count": null,
   "id": "247bb9e8",
   "metadata": {},
   "outputs": [],
   "source": []
  }
 ],
 "metadata": {
  "colab": {
   "provenance": []
  },
  "kernelspec": {
   "display_name": "Python 3 (ipykernel)",
   "language": "python",
   "name": "python3"
  },
  "language_info": {
   "codemirror_mode": {
    "name": "ipython",
    "version": 3
   },
   "file_extension": ".py",
   "mimetype": "text/x-python",
   "name": "python",
   "nbconvert_exporter": "python",
   "pygments_lexer": "ipython3",
   "version": "3.10.9"
  }
 },
 "nbformat": 4,
 "nbformat_minor": 5
}
